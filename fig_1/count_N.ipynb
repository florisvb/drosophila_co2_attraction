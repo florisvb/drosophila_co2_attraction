{
 "cells": [
  {
   "cell_type": "code",
   "execution_count": 1,
   "metadata": {},
   "outputs": [],
   "source": [
    "import dill as pickle"
   ]
  },
  {
   "cell_type": "code",
   "execution_count": 2,
   "metadata": {},
   "outputs": [
    {
     "name": "stdout",
     "output_type": "stream",
     "text": [
      "count_N.ipynb                     \u001b[0m\u001b[01;35mfig_1_freeflight.svg\u001b[0m     make_fig_1.py\r\n",
      "fig_1_freeflight_data.dillpickle  freeflight_analysis.py   \u001b[01;34mold\u001b[0m/\r\n",
      "fig_1_freeflight_data_summary.md  freeflight_analysis.pyc  write_csv.py\r\n"
     ]
    }
   ],
   "source": [
    "ls"
   ]
  },
  {
   "cell_type": "code",
   "execution_count": 3,
   "metadata": {},
   "outputs": [],
   "source": [
    "f = open('fig_1_freeflight_data.dillpickle')"
   ]
  },
  {
   "cell_type": "code",
   "execution_count": 4,
   "metadata": {},
   "outputs": [],
   "source": [
    "data = pickle.load(f)"
   ]
  },
  {
   "cell_type": "code",
   "execution_count": 5,
   "metadata": {},
   "outputs": [
    {
     "data": {
      "text/plain": [
       "[(u'eth_odor', u'heatmap_xy'),\n",
       " (u'co2_control', u'heatmap_xy'),\n",
       " (u'colorbar', u'colorbar'),\n",
       " (u'eth_odor', u'heatmap_xz'),\n",
       " (u'windtunnel_quanitified', u'approached_blob'),\n",
       " (u'eth_control', u'heatmap_xz'),\n",
       " (u'co2_control', u'heatmap_xz'),\n",
       " (u'windtunnel_quanitified', u'landing_pad'),\n",
       " (u'eth_control', u'heatmap_xy'),\n",
       " (u'windtunnel_quanitified', u'approached_pad'),\n",
       " (u'co2_odor', u'heatmap_xz'),\n",
       " (u'co2_odor', u'heatmap_xy')]"
      ]
     },
     "execution_count": 5,
     "metadata": {},
     "output_type": "execute_result"
    }
   ],
   "source": [
    "data.keys()"
   ]
  },
  {
   "cell_type": "code",
   "execution_count": 6,
   "metadata": {},
   "outputs": [],
   "source": [
    "actions = data[(u'windtunnel_quanitified', u'approached_blob')]"
   ]
  },
  {
   "cell_type": "code",
   "execution_count": 7,
   "metadata": {},
   "outputs": [
    {
     "name": "stdout",
     "output_type": "stream",
     "text": [
      "0 stats for hcs_co2_15sccm blob off\n",
      "630\n",
      "1 stats for hcs_co2_60sccm blob off\n",
      "1288\n",
      "2 stats for hcs_co2_15sccm blob on\n",
      "1021\n",
      "3 stats for hcs_co2_60sccm blob on\n",
      "1815\n",
      "4 stats for hcs_eth_15sccm blob off\n",
      "229\n",
      "5 stats for hcs_eth_60sccm blob off\n",
      "986\n",
      "6 stats for hcs_eth_15sccm blob on\n",
      "341\n",
      "7 stats for hcs_eth_60sccm blob on\n",
      "1720\n",
      "8 xlim\n",
      "9 ylim\n",
      "10 adjust spines\n",
      "11 set_xticklabels\n"
     ]
    }
   ],
   "source": [
    "for i, action in enumerate(actions):\n",
    "    print i, action['title']\n",
    "    if 'stats' in action['title']:\n",
    "        print len(action['args'][1])"
   ]
  },
  {
   "cell_type": "code",
   "execution_count": 12,
   "metadata": {},
   "outputs": [
    {
     "name": "stderr",
     "output_type": "stream",
     "text": [
      "/home/caveman/.local/lib/python2.7/site-packages/pandas/core/computation/__init__.py:18: UserWarning: The installed version of numexpr 2.4.3 is not supported in pandas and will be not be used\n",
      "The minimum supported version is 2.4.6\n",
      "\n",
      "  ver=ver, min_ver=_MIN_NUMEXPR_VERSION), UserWarning)\n"
     ]
    },
    {
     "name": "stdout",
     "output_type": "stream",
     "text": [
      "cannot load flydra, should be okay for analysis\n",
      "1.5.1\n",
      "recommended version: 1.1.1 or greater\n",
      "USING PROFILE:  uw\n"
     ]
    }
   ],
   "source": [
    "import freeflight_analysis"
   ]
  },
  {
   "cell_type": "code",
   "execution_count": 39,
   "metadata": {},
   "outputs": [
    {
     "name": "stdout",
     "output_type": "stream",
     "text": [
      "['/media/caveman/CO2_hdf5_uw/CO2_data_notrajecs/windtunnel_freeflight_rotpad_hcs/hcs_60sccm_ethanol_dry/20151028_165148_Nflydra_trackedobjects.pickle', '/media/caveman/CO2_hdf5_uw/CO2_data_notrajecs/windtunnel_freeflight_rotpad_hcs/hcs_60sccm_ethanol_dry/20151111_164955_Nflydra_trackedobjects.pickle', '/media/caveman/CO2_hdf5_uw/CO2_data_notrajecs/windtunnel_freeflight_rotpad_hcs/hcs_60sccm_ethanol_dry/20151112_172111_Nflydra_trackedobjects.pickle', '/media/caveman/CO2_hdf5_uw/CO2_data_notrajecs/windtunnel_freeflight_rotpad_hcs/hcs_60sccm_ethanol_dry/20160129_161130_Nflydra_trackedobjects.pickle', '/media/caveman/CO2_hdf5_uw/CO2_data_notrajecs/windtunnel_freeflight_rotpad_hcs/hcs_60sccm_ethanol_dry/20160130_122909_Nflydra_trackedobjects.pickle', '/media/caveman/CO2_hdf5_uw/CO2_data_notrajecs/windtunnel_freeflight_rotpad_hcs/hcs_60sccm_ethanol_dry/20160223_185252_Nflydra_trackedobjects.pickle']\n",
      "20151028_165148_Nflydra\n",
      "20151028_165148_Nflydra_odor_control.bag\n",
      "/media/caveman/CO2_hdf5_uw/CO2_data_notrajecs/windtunnel_freeflight_rotpad_hcs/hcs_60sccm_ethanol_dry/20151028_165148_Nflydra_odor_control.hdf5\n",
      "updating objids, may take some time\n",
      "20151028_165148_Nflydra left flipped\n",
      "20151111_164955_Nflydra\n",
      "20151111_164955_Nflydra_odor_control.bag\n",
      "/media/caveman/CO2_hdf5_uw/CO2_data_notrajecs/windtunnel_freeflight_rotpad_hcs/hcs_60sccm_ethanol_dry/20151111_164955_Nflydra_odor_control.hdf5\n",
      "updating objids, may take some time\n",
      "20151112_172111_Nflydra\n",
      "20151112_172111_Nflydra_odor_control.bag\n",
      "/media/caveman/CO2_hdf5_uw/CO2_data_notrajecs/windtunnel_freeflight_rotpad_hcs/hcs_60sccm_ethanol_dry/20151112_172111_Nflydra_odor_control.hdf5\n",
      "updating objids, may take some time\n",
      "20160129_161130_Nflydra\n",
      "20160129_161130_Nflydra_odor_control.bag\n",
      "/media/caveman/CO2_hdf5_uw/CO2_data_notrajecs/windtunnel_freeflight_rotpad_hcs/hcs_60sccm_ethanol_dry/20160129_161130_Nflydra_odor_control.hdf5\n",
      "updating objids, may take some time\n",
      "20160129_161130_Nflydra left flipped\n",
      "20160130_122909_Nflydra\n",
      "20160130_122909_Nflydra_odor_control.bag\n",
      "/media/caveman/CO2_hdf5_uw/CO2_data_notrajecs/windtunnel_freeflight_rotpad_hcs/hcs_60sccm_ethanol_dry/20160130_122909_Nflydra_odor_control.hdf5\n",
      "updating objids, may take some time\n",
      "20160130_122909_Nflydra left flipped\n",
      "20160223_185252_Nflydra\n",
      "20160223_185252_Nflydra_odor_control.bag\n",
      "/media/caveman/CO2_hdf5_uw/CO2_data_notrajecs/windtunnel_freeflight_rotpad_hcs/hcs_60sccm_ethanol_dry/20160223_185252_Nflydra_odor_control.hdf5\n",
      "updating objids, may take some time\n",
      "[0 1 2 3 4 5 6 7 8 9]\n",
      "[0 1 2 3 4 5 6 7 8 9]\n"
     ]
    }
   ],
   "source": [
    "data = freeflight_analysis.load_eth_datasets()"
   ]
  },
  {
   "cell_type": "code",
   "execution_count": 40,
   "metadata": {},
   "outputs": [
    {
     "data": {
      "text/plain": [
       "['pd_eth_odor', 'pd_eth_ctrl']"
      ]
     },
     "execution_count": 40,
     "metadata": {},
     "output_type": "execute_result"
    }
   ],
   "source": [
    "data.keys()"
   ]
  },
  {
   "cell_type": "code",
   "execution_count": 43,
   "metadata": {},
   "outputs": [
    {
     "name": "stdout",
     "output_type": "stream",
     "text": [
      "79129\n",
      "mean trajec length:  164.94123519822062\n",
      "std trajec length:  219.61700811655095\n"
     ]
    }
   ],
   "source": [
    "import numpy as np\n",
    "print len(np.unique(data['pd_eth_odor'].objid.values))\n",
    "g = data['pd_eth_odor'].groupby('objid')\n",
    "print 'mean trajec length: ', g.size().mean()\n",
    "print 'std trajec length: ', g.size().std()"
   ]
  }
 ],
 "metadata": {
  "kernelspec": {
   "display_name": "Python 2",
   "language": "python",
   "name": "python2"
  },
  "language_info": {
   "codemirror_mode": {
    "name": "ipython",
    "version": 2
   },
   "file_extension": ".py",
   "mimetype": "text/x-python",
   "name": "python",
   "nbconvert_exporter": "python",
   "pygments_lexer": "ipython2",
   "version": "2.7.12"
  }
 },
 "nbformat": 4,
 "nbformat_minor": 2
}
