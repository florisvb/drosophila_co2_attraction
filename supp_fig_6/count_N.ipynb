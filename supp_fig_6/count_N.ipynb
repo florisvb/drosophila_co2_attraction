{
 "cells": [
  {
   "cell_type": "code",
   "execution_count": 20,
   "metadata": {},
   "outputs": [],
   "source": [
    "import dill as pickle"
   ]
  },
  {
   "cell_type": "code",
   "execution_count": 21,
   "metadata": {},
   "outputs": [
    {
     "name": "stdout",
     "output_type": "stream",
     "text": [
      "count_N.ipynb\r\n",
      "make_supp_fig_6.py\r\n",
      "\u001b[0m\u001b[01;35msupp_fig_6_co2control_compressed.svg\u001b[0m\r\n",
      "supp_fig_6_co2control_data_compressed.dillpickle\r\n",
      "supp_fig_6_co2control_data_compressed_summary.md\r\n",
      "supp_fig_6_co2control_data.dillpickle\r\n",
      "\u001b[01;35msupp_fig_6_co2control.png\u001b[0m\r\n",
      "\u001b[01;35msupp_fig_6_co2control.svg\u001b[0m\r\n",
      "write_csv.py\r\n"
     ]
    }
   ],
   "source": [
    "ls"
   ]
  },
  {
   "cell_type": "code",
   "execution_count": 22,
   "metadata": {},
   "outputs": [],
   "source": [
    "f = open('supp_fig_6_co2control_data.dillpickle')"
   ]
  },
  {
   "cell_type": "code",
   "execution_count": 23,
   "metadata": {},
   "outputs": [],
   "source": [
    "data = pickle.load(f)"
   ]
  },
  {
   "cell_type": "code",
   "execution_count": 24,
   "metadata": {},
   "outputs": [
    {
     "data": {
      "text/plain": [
       "[(u'anosmic', u'low_speed'),\n",
       " (u'control_hcs_full', u'low_speed'),\n",
       " (u'gr63a', u'high_speed'),\n",
       " (u'M106', u'high_speed'),\n",
       " (u'ir40a', u'high_speed'),\n",
       " (u'control_ir40a', u'high_speed'),\n",
       " (u'control_hcs', u'low_speed'),\n",
       " (u'hcs', u'low_speed'),\n",
       " (u'gr63a', u'low_speed'),\n",
       " (u'control_M106', u'low_speed'),\n",
       " (u'control_M106', u'high_speed'),\n",
       " (u'hcs_full', u'correlation'),\n",
       " (u'anosmic', u'high_speed'),\n",
       " (u'control_hcs', u'high_speed'),\n",
       " (u'control_hcs_full', u'correlation'),\n",
       " (u'control_hcs_full', u'nflies'),\n",
       " (u'control_antennaless', u'low_speed'),\n",
       " (u'ir25a2_BAC', u'low_speed'),\n",
       " (u'ir8aM120', u'high_speed'),\n",
       " (u'cmap_h', u'speed_cmap_h'),\n",
       " (u'control_ir8aM120', u'low_speed'),\n",
       " (u'control_antennaless', u'high_speed'),\n",
       " (u'hcs_full', u'high_speed'),\n",
       " (u'control_hcs_full', u'high_speed'),\n",
       " (u'control_ir40a', u'low_speed'),\n",
       " (u'antennaless', u'low_speed'),\n",
       " (u'control_ir64a', u'low_speed'),\n",
       " (u'hcs_full', u'speed'),\n",
       " (u'ir64a', u'high_speed'),\n",
       " (u'control_orco', u'low_speed'),\n",
       " (u'double_gr63_ir64', u'low_speed'),\n",
       " (u'control_anosmic', u'low_speed'),\n",
       " (u'orco', u'high_speed'),\n",
       " (u'control_M37ir25a2', u'low_speed'),\n",
       " (u'control_double_gr63_ir64', u'high_speed'),\n",
       " (u'control_ir25a2_BAC', u'high_speed'),\n",
       " (u'M106', u'low_speed'),\n",
       " (u'antennaless', u'high_speed'),\n",
       " (u'cmap_h', u'pref_ind_cmap_h'),\n",
       " (u'control_orco', u'high_speed'),\n",
       " (u'control_anosmic', u'high_speed'),\n",
       " (u'ir64a', u'low_speed'),\n",
       " (u'control_double_gr63_ir64', u'low_speed'),\n",
       " (u'control_ir64a', u'high_speed'),\n",
       " (u'orco', u'low_speed'),\n",
       " (u'hcs_full', u'low_speed'),\n",
       " (u'ir25a2_BAC', u'high_speed'),\n",
       " (u'control_gr63a', u'low_speed'),\n",
       " (u'control_gr63a', u'high_speed'),\n",
       " (u'M37ir25a2', u'low_speed'),\n",
       " (u'M37ir25a2', u'high_speed'),\n",
       " (u'double_gr63_ir64', u'high_speed'),\n",
       " (u'control_ir25a2_BAC', u'low_speed'),\n",
       " (u'ir40a', u'low_speed'),\n",
       " (u'control_ir8aM120', u'high_speed'),\n",
       " (u'hcs', u'high_speed'),\n",
       " (u'ir8aM120', u'low_speed'),\n",
       " (u'hcs_full', u'nflies'),\n",
       " (u'control_hcs_full', u'speed'),\n",
       " (u'control_M37ir25a2', u'high_speed')]"
      ]
     },
     "execution_count": 24,
     "metadata": {},
     "output_type": "execute_result"
    }
   ],
   "source": [
    "data.keys()"
   ]
  },
  {
   "cell_type": "code",
   "execution_count": 25,
   "metadata": {},
   "outputs": [
    {
     "data": {
      "text/plain": [
       "(90, 7200)"
      ]
     },
     "execution_count": 25,
     "metadata": {},
     "output_type": "execute_result"
    }
   ],
   "source": [
    "data[('control_hcs_full', 'speed')][0]['args'][0].shape"
   ]
  },
  {
   "cell_type": "code",
   "execution_count": 26,
   "metadata": {},
   "outputs": [],
   "source": [
    "keys = ['ir64a', 'gr63a', 'double_gr63_ir64']"
   ]
  },
  {
   "cell_type": "code",
   "execution_count": 28,
   "metadata": {},
   "outputs": [
    {
     "name": "stdout",
     "output_type": "stream",
     "text": [
      " ir64a\n",
      "high speed:  36\n",
      "low speed:  66\n",
      "\n",
      "gr63a\n",
      "high speed:  25\n",
      "low speed:  81\n",
      "\n",
      "double_gr63_ir64\n",
      "high speed:  44\n",
      "low speed:  44\n",
      "\n"
     ]
    }
   ],
   "source": [
    "for key in keys:\n",
    "    print key\n",
    "    print 'high speed: ', len(data[('control_'+key, 'high_speed')][0]['args'][1])\n",
    "    print 'low speed: ', len(data[('control_'+key, 'low_speed')][0]['args'][1])\n",
    "    print ''"
   ]
  },
  {
   "cell_type": "code",
   "execution_count": 29,
   "metadata": {},
   "outputs": [
    {
     "name": "stdout",
     "output_type": "stream",
     "text": [
      "hcs\n",
      "high speed:  29\n",
      "low speed:  61\n",
      "\n",
      "anosmic\n",
      "high speed:  21\n",
      "low speed:  66\n",
      "\n",
      "antennaless\n",
      "high speed:  55\n",
      "low speed:  41\n",
      "\n",
      "orco\n",
      "high speed:  17\n",
      "low speed:  71\n",
      "\n",
      "ir8aM120\n",
      "high speed:  23\n",
      "low speed:  63\n",
      "\n",
      "M37ir25a2\n",
      "high speed:  32\n",
      "low speed:  60\n",
      "\n",
      "ir25a2_BAC\n",
      "high speed:  10\n",
      "low speed:  47\n",
      "\n",
      "M106\n",
      "high speed:  28\n",
      "low speed:  42\n",
      "\n",
      "ir40a\n",
      "high speed:  22\n",
      "low speed:  38\n",
      "\n"
     ]
    }
   ],
   "source": [
    "keys = ['hcs', 'anosmic', 'antennaless', 'orco', 'ir8aM120', 'M37ir25a2', 'ir25a2_BAC', 'M106', 'ir40a']\n",
    "for key in keys:\n",
    "    print key\n",
    "    print 'high speed: ', len(data[('control_'+key, 'high_speed')][0]['args'][1])\n",
    "    print 'low speed: ', len(data[('control_'+key, 'low_speed')][0]['args'][1])\n",
    "    print ''"
   ]
  },
  {
   "cell_type": "code",
   "execution_count": null,
   "metadata": {},
   "outputs": [],
   "source": []
  }
 ],
 "metadata": {
  "kernelspec": {
   "display_name": "Python 2",
   "language": "python",
   "name": "python2"
  },
  "language_info": {
   "codemirror_mode": {
    "name": "ipython",
    "version": 2
   },
   "file_extension": ".py",
   "mimetype": "text/x-python",
   "name": "python",
   "nbconvert_exporter": "python",
   "pygments_lexer": "ipython2",
   "version": "2.7.12"
  }
 },
 "nbformat": 4,
 "nbformat_minor": 2
}
