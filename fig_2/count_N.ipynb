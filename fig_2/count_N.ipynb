{
 "cells": [
  {
   "cell_type": "code",
   "execution_count": 1,
   "metadata": {},
   "outputs": [],
   "source": [
    "import dill as pickle"
   ]
  },
  {
   "cell_type": "code",
   "execution_count": 2,
   "metadata": {},
   "outputs": [
    {
     "name": "stdout",
     "output_type": "stream",
     "text": [
      "\u001b[0m\u001b[01;34mco2_concentration_wind_tunnel\u001b[0m/            \u001b[01;35mfig_2_walking.svg\u001b[0m\r\n",
      "count_N.ipynb                             make_fig_2.py\r\n",
      "fig_2_walking_data_compressed.dillpickle  \u001b[01;34mmisc\u001b[0m/\r\n",
      "fig_2_walking_data_compressed_summary.md  \u001b[01;34mold\u001b[0m/\r\n",
      "fig_2_walking_data.dillpickle             write_csv.py\r\n"
     ]
    }
   ],
   "source": [
    "ls"
   ]
  },
  {
   "cell_type": "code",
   "execution_count": 15,
   "metadata": {},
   "outputs": [],
   "source": [
    "f = open('fig_2_walking_data.dillpickle')"
   ]
  },
  {
   "cell_type": "code",
   "execution_count": 16,
   "metadata": {},
   "outputs": [],
   "source": [
    "data = pickle.load(f)"
   ]
  },
  {
   "cell_type": "code",
   "execution_count": 17,
   "metadata": {},
   "outputs": [
    {
     "data": {
      "text/plain": [
       "[(u'distances', u'eth_60sccm'),\n",
       " (u'co2_concentration', u'co2_concentration'),\n",
       " (u'time', u'eth_60sccm'),\n",
       " (u'distances', u'vinegar_60sccm'),\n",
       " (u'time', u'vinegar_60sccm'),\n",
       " (u'time', u'eth-co2_60_15'),\n",
       " (u'speeds', u'co2_60sccm'),\n",
       " (u'distances', u'eth-co2_60_15'),\n",
       " (u'windypad_template', u'co2_60sccm'),\n",
       " (u'trajectories', u'ethanol'),\n",
       " (u'windypad_template', u'eth-co2_60_15'),\n",
       " (u'windypad_template', u'vinegar_60sccm'),\n",
       " (u'approaches', u'eth-co2_60_15'),\n",
       " (u'time', u'co2_60sccm'),\n",
       " (u'speeds', u'eth-co2_60_15'),\n",
       " (u'speeds', u'vinegar_60sccm'),\n",
       " (u'distances', u'co2_60sccm'),\n",
       " (u'approaches', u'co2_60sccm'),\n",
       " (u'approaches', u'vinegar_60sccm'),\n",
       " (u'trajectories', u'co2'),\n",
       " (u'speeds', u'eth_60sccm'),\n",
       " (u'windypad_template', u'h2o_60sccm'),\n",
       " (u'trajectories', u'h2o'),\n",
       " (u'windypad_template', u'eth_60sccm'),\n",
       " (u'approaches', u'eth_60sccm'),\n",
       " (u'speeds', u'h2o_60sccm'),\n",
       " (u'approaches', u'h2o_60sccm'),\n",
       " (u'distances', u'h2o_60sccm'),\n",
       " (u'time', u'h2o_60sccm')]"
      ]
     },
     "execution_count": 17,
     "metadata": {},
     "output_type": "execute_result"
    }
   ],
   "source": [
    "data.keys()"
   ]
  },
  {
   "cell_type": "code",
   "execution_count": 19,
   "metadata": {},
   "outputs": [
    {
     "name": "stdout",
     "output_type": "stream",
     "text": [
      "h2o_60sccm\n",
      "183\n",
      "co2_60sccm\n",
      "125\n",
      "eth_60sccm\n",
      "171\n",
      "eth-co2_60_15\n",
      "121\n",
      "vinegar_60sccm\n",
      "193\n"
     ]
    }
   ],
   "source": [
    "for key in ['h2o_60sccm', 'co2_60sccm', 'eth_60sccm', 'eth-co2_60_15', 'vinegar_60sccm']:\n",
    "    print key\n",
    "    actions = data[(u'speeds', key)]\n",
    "    print(len(actions[0]['args'][1]))"
   ]
  }
 ],
 "metadata": {
  "kernelspec": {
   "display_name": "Python 2",
   "language": "python",
   "name": "python2"
  },
  "language_info": {
   "codemirror_mode": {
    "name": "ipython",
    "version": 2
   },
   "file_extension": ".py",
   "mimetype": "text/x-python",
   "name": "python",
   "nbconvert_exporter": "python",
   "pygments_lexer": "ipython2",
   "version": "2.7.12"
  }
 },
 "nbformat": 4,
 "nbformat_minor": 2
}
