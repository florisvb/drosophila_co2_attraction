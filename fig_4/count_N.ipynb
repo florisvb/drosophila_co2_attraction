{
 "cells": [
  {
   "cell_type": "code",
   "execution_count": 1,
   "metadata": {},
   "outputs": [],
   "source": [
    "import dill as pickle"
   ]
  },
  {
   "cell_type": "code",
   "execution_count": 2,
   "metadata": {},
   "outputs": [
    {
     "name": "stdout",
     "output_type": "stream",
     "text": [
      "fig_4_mutants_data_compressed.dillpickle  \u001b[0m\u001b[01;35mfig_4_mutants.svg\u001b[0m  Untitled.ipynb\r\n",
      "fig_4_mutants_data_compressed_summary.md  make_fig_4.py      write_csv.py\r\n",
      "fig_4_mutants_data.dillpickle             \u001b[01;34mold\u001b[0m/\r\n"
     ]
    }
   ],
   "source": [
    "ls"
   ]
  },
  {
   "cell_type": "code",
   "execution_count": 3,
   "metadata": {},
   "outputs": [],
   "source": [
    "f = open('fig_4_mutants_data.dillpickle')"
   ]
  },
  {
   "cell_type": "code",
   "execution_count": 4,
   "metadata": {},
   "outputs": [
    {
     "name": "stderr",
     "output_type": "stream",
     "text": [
      "/home/caveman/.local/lib/python2.7/site-packages/pandas/core/computation/__init__.py:18: UserWarning: The installed version of numexpr 2.4.3 is not supported in pandas and will be not be used\n",
      "The minimum supported version is 2.4.6\n",
      "\n",
      "  ver=ver, min_ver=_MIN_NUMEXPR_VERSION), UserWarning)\n"
     ]
    },
    {
     "name": "stdout",
     "output_type": "stream",
     "text": [
      "1.5.1\n",
      "recommended version: 1.1.1 or greater\n",
      "USING PROFILE:  uw\n"
     ]
    }
   ],
   "source": [
    "data = pickle.load(f)"
   ]
  },
  {
   "cell_type": "code",
   "execution_count": 5,
   "metadata": {},
   "outputs": [
    {
     "data": {
      "text/plain": [
       "[(u'anosmic', u'low_speed'),\n",
       " (u'M37ir25a2', u'low_speed'),\n",
       " (u'M106', u'high_speed'),\n",
       " (u'ir40a', u'high_speed'),\n",
       " (u'hcs', u'low_speed'),\n",
       " (u'gr63a', u'low_speed'),\n",
       " (u'hcs_full', u'correlation'),\n",
       " (u'anosmic', u'high_speed'),\n",
       " (u'ir25a2_BAC', u'low_speed'),\n",
       " (u'ir8aM120', u'high_speed'),\n",
       " (u'cmap_h', u'speed_cmap_h'),\n",
       " (u'M106', u'low_speed'),\n",
       " (u'hcs_full', u'high_speed'),\n",
       " (u'antennaless', u'low_speed'),\n",
       " (u'hcs_full', u'speed'),\n",
       " (u'ir64a', u'high_speed'),\n",
       " (u'gr63a', u'high_speed'),\n",
       " (u'double_gr63_ir64', u'low_speed'),\n",
       " (u'orco', u'high_speed'),\n",
       " (u'antennaless', u'high_speed'),\n",
       " (u'cmap_h', u'pref_ind_cmap_h'),\n",
       " 'Supplemental Data',\n",
       " (u'hcs_full', u'nflies'),\n",
       " (u'ir64a', u'low_speed'),\n",
       " (u'orco', u'low_speed'),\n",
       " (u'hcs_full', u'low_speed'),\n",
       " (u'M37ir25a2', u'high_speed'),\n",
       " (u'double_gr63_ir64', u'high_speed'),\n",
       " (u'summary_array', u'summary_array'),\n",
       " (u'ir40a', u'low_speed'),\n",
       " (u'hcs', u'high_speed'),\n",
       " (u'ir8aM120', u'low_speed'),\n",
       " (u'ir25a2_BAC', u'high_speed')]"
      ]
     },
     "execution_count": 5,
     "metadata": {},
     "output_type": "execute_result"
    }
   ],
   "source": [
    "data.keys()"
   ]
  },
  {
   "cell_type": "code",
   "execution_count": 7,
   "metadata": {},
   "outputs": [
    {
     "data": {
      "text/plain": [
       "(112, 7200)"
      ]
     },
     "execution_count": 7,
     "metadata": {},
     "output_type": "execute_result"
    }
   ],
   "source": [
    "data[('hcs_full', 'speed')][0]['args'][0].shape"
   ]
  },
  {
   "cell_type": "code",
   "execution_count": 8,
   "metadata": {},
   "outputs": [],
   "source": [
    "keys = ['ir64a', 'gr63a', 'double_gr63_ir64']"
   ]
  },
  {
   "cell_type": "code",
   "execution_count": 16,
   "metadata": {},
   "outputs": [
    {
     "name": "stdout",
     "output_type": "stream",
     "text": [
      "ir64a\n",
      "high speed:  46\n",
      "low speed:  75\n",
      "\n",
      "gr63a\n",
      "high speed:  29\n",
      "low speed:  88\n",
      "\n",
      "double_gr63_ir64\n",
      "high speed:  68\n",
      "low speed:  65\n",
      "\n"
     ]
    }
   ],
   "source": [
    "for key in keys:\n",
    "    print key\n",
    "    print 'high speed: ', len(data[(key, 'high_speed')][0]['args'][1])\n",
    "    print 'low speed: ', len(data[(key, 'low_speed')][0]['args'][1])\n",
    "    print ''"
   ]
  },
  {
   "cell_type": "code",
   "execution_count": 17,
   "metadata": {},
   "outputs": [
    {
     "name": "stdout",
     "output_type": "stream",
     "text": [
      "hcs\n",
      "high speed:  33\n",
      "low speed:  79\n",
      "\n",
      "anosmic\n",
      "high speed:  37\n",
      "low speed:  97\n",
      "\n",
      "antennaless\n",
      "high speed:  72\n",
      "low speed:  55\n",
      "\n",
      "orco\n",
      "high speed:  24\n",
      "low speed:  110\n",
      "\n",
      "ir8aM120\n",
      "high speed:  37\n",
      "low speed:  100\n",
      "\n",
      "M37ir25a2\n",
      "high speed:  45\n",
      "low speed:  93\n",
      "\n",
      "ir25a2_BAC\n",
      "high speed:  16\n",
      "low speed:  68\n",
      "\n",
      "M106\n",
      "high speed:  47\n",
      "low speed:  57\n",
      "\n",
      "ir40a\n",
      "high speed:  34\n",
      "low speed:  51\n",
      "\n"
     ]
    }
   ],
   "source": [
    "keys = ['hcs', 'anosmic', 'antennaless', 'orco', 'ir8aM120', 'M37ir25a2', 'ir25a2_BAC', 'M106', 'ir40a']\n",
    "for key in keys:\n",
    "    print key\n",
    "    print 'high speed: ', len(data[(key, 'high_speed')][0]['args'][1])\n",
    "    print 'low speed: ', len(data[(key, 'low_speed')][0]['args'][1])\n",
    "    print ''"
   ]
  },
  {
   "cell_type": "code",
   "execution_count": null,
   "metadata": {},
   "outputs": [],
   "source": []
  }
 ],
 "metadata": {
  "kernelspec": {
   "display_name": "Python 2",
   "language": "python",
   "name": "python2"
  },
  "language_info": {
   "codemirror_mode": {
    "name": "ipython",
    "version": 2
   },
   "file_extension": ".py",
   "mimetype": "text/x-python",
   "name": "python",
   "nbconvert_exporter": "python",
   "pygments_lexer": "ipython2",
   "version": "2.7.12"
  }
 },
 "nbformat": 4,
 "nbformat_minor": 2
}
