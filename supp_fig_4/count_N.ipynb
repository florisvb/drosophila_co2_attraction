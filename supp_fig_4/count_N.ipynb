{
 "cells": [
  {
   "cell_type": "code",
   "execution_count": 1,
   "metadata": {},
   "outputs": [],
   "source": [
    "import dill as pickle"
   ]
  },
  {
   "cell_type": "code",
   "execution_count": 2,
   "metadata": {},
   "outputs": [
    {
     "name": "stdout",
     "output_type": "stream",
     "text": [
      "count_N.ipynb          supp_fig_4_data_compressed.dillpickle\r\n",
      "make_supp_fig_4.py     supp_fig_4_data_compressed_summary.md\r\n",
      "model.ipynb            supp_fig_4_data.dillpickle\r\n",
      "model_psuedo_code.txt  \u001b[0m\u001b[01;35msupp_fig_4.svg\u001b[0m\r\n",
      "N_approaches.ipynb     write_csv.py\r\n",
      "Statistics.ipynb\r\n"
     ]
    }
   ],
   "source": [
    "ls"
   ]
  },
  {
   "cell_type": "code",
   "execution_count": 5,
   "metadata": {},
   "outputs": [],
   "source": [
    "f = open('supp_fig_4_data.dillpickle')\n",
    "data = pickle.load(f)"
   ]
  },
  {
   "cell_type": "code",
   "execution_count": 6,
   "metadata": {},
   "outputs": [
    {
     "data": {
      "text/plain": [
       "[(u'single_flies_h_c_s_0', u'low_speed'),\n",
       " (u'hcs_04', u'low_speed'),\n",
       " (u'hcs_12', u'high_speed'),\n",
       " (u'n_approaches_stats', u'n_approaches_stats'),\n",
       " (u'n_approaches_12', u'n_approaches_12'),\n",
       " (u'single_flies_h_c_s_1', u'low_speed'),\n",
       " (u'hcs_00', u'high_speed'),\n",
       " (u'model', u'1.7'),\n",
       " (u'n_approaches_00', u'n_approaches_00'),\n",
       " (u'single_flies_h_c_s_1', u'high_speed'),\n",
       " (u'hcs_00', u'low_speed'),\n",
       " (u'hcs_12', u'low_speed'),\n",
       " (u'n_approaches_35', u'n_approaches_35'),\n",
       " (u'model', u'5'),\n",
       " (u'model', u'15'),\n",
       " (u'hcs_04', u'high_speed'),\n",
       " (u'hcs_35', u'low_speed'),\n",
       " (u'hcs_35', u'high_speed'),\n",
       " (u'single_flies_h_c_s_0', u'high_speed'),\n",
       " (u'n_approaches_04', u'n_approaches_04')]"
      ]
     },
     "execution_count": 6,
     "metadata": {},
     "output_type": "execute_result"
    }
   ],
   "source": [
    "data.keys()"
   ]
  },
  {
   "cell_type": "code",
   "execution_count": 7,
   "metadata": {},
   "outputs": [
    {
     "name": "stdout",
     "output_type": "stream",
     "text": [
      "single_flies_h_c_s_0\n",
      "high speed:  131\n",
      "low speed:  153\n",
      "\n",
      "single_flies_h_c_s_1\n",
      "high speed:  200\n",
      "low speed:  210\n",
      "\n",
      "hcs_00\n",
      "high speed:  48\n",
      "low speed:  170\n",
      "\n",
      "hcs_04\n",
      "high speed:  24\n",
      "low speed:  64\n",
      "\n",
      "hcs_12\n",
      "high speed:  26\n",
      "low speed:  70\n",
      "\n",
      "hcs_35\n",
      "high speed:  20\n",
      "low speed:  56\n",
      "\n"
     ]
    }
   ],
   "source": [
    "for key in ['single_flies_h_c_s_0', 'single_flies_h_c_s_1',\n",
    "            'hcs_00', 'hcs_04', 'hcs_12', 'hcs_35']:\n",
    "    print key\n",
    "    print 'high speed: ', len(data[(key, 'high_speed')][0]['args'][1])\n",
    "    print 'low speed: ', len(data[(key, 'low_speed')][0]['args'][1])\n",
    "    print ''"
   ]
  },
  {
   "cell_type": "code",
   "execution_count": null,
   "metadata": {},
   "outputs": [],
   "source": []
  }
 ],
 "metadata": {
  "kernelspec": {
   "display_name": "Python 2",
   "language": "python",
   "name": "python2"
  },
  "language_info": {
   "codemirror_mode": {
    "name": "ipython",
    "version": 2
   },
   "file_extension": ".py",
   "mimetype": "text/x-python",
   "name": "python",
   "nbconvert_exporter": "python",
   "pygments_lexer": "ipython2",
   "version": "2.7.12"
  }
 },
 "nbformat": 4,
 "nbformat_minor": 2
}
