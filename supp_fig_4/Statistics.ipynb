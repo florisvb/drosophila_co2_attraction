{
 "cells": [
  {
   "cell_type": "code",
   "execution_count": null,
   "metadata": {},
   "outputs": [],
   "source": [
    "import pandas\n",
    "import matplotlib.pyplot as plt\n",
    "import numpy as np\n",
    "import multi_tracker_analysis as mta\n",
    "#import pairs2groups\n",
    "import scipy.stats\n",
    "\n",
    "import figurefirst\n",
    "import flystat\n",
    "import fly_plot_lib.plot as fpl\n",
    "import fly_plot_lib.text as flytext"
   ]
  },
  {
   "cell_type": "code",
   "execution_count": null,
   "metadata": {},
   "outputs": [],
   "source": [
    "directory = '/media/caveman/CO2_hdf5_uw/CO2_data_notrajecs/low_flow_walking_arena_B/ir40a/24hrstarved/'\n",
    "N_0 = get_number_of_fly_entries_for_flowrate_for_experiment(directory, 0, timerange=[2400,3600])\n",
    "N_1 = get_number_of_fly_entries_for_flowrate_for_experiment(directory, 1, timerange=[2400,3600])\n",
    "\n",
    "print 'Odor: ', np.mean(N_0), np.mean(N_1)\n",
    "print scipy.stats.ks_2samp(N_0, N_1)\n",
    "\n",
    "C_N_0 = get_number_of_fly_entries_for_flowrate_for_experiment(directory, 0, timerange=[1200,2400])\n",
    "C_N_1 = get_number_of_fly_entries_for_flowrate_for_experiment(directory, 1, timerange=[1200,2400])\n",
    "\n",
    "print 'Control: ', np.mean(C_N_0), np.mean(C_N_1)\n",
    "print scipy.stats.ks_2samp(C_N_0, C_N_1)\n",
    "\n",
    "print scipy.stats.ks_2samp(N_1 - C_N_1, N_0 - C_N_0)"
   ]
  },
  {
   "cell_type": "code",
   "execution_count": null,
   "metadata": {},
   "outputs": [],
   "source": [
    "directory = '/media/caveman/CO2_hdf5_uw/CO2_data_notrajecs/low_flow_walking_arena_B/ir40a/hot'\n",
    "N_0 = get_number_of_fly_entries_for_flowrate_for_experiment(directory, 0, timerange=[2400,3600])\n",
    "N_1 = get_number_of_fly_entries_for_flowrate_for_experiment(directory, 1, timerange=[2400,3600])\n",
    "\n",
    "print 'Odor: ', np.mean(N_0), np.mean(N_1)\n",
    "print scipy.stats.ks_2samp(N_0, N_1)\n",
    "\n",
    "C_N_0 = get_number_of_fly_entries_for_flowrate_for_experiment(directory, 0, timerange=[1200,2400])\n",
    "C_N_1 = get_number_of_fly_entries_for_flowrate_for_experiment(directory, 1, timerange=[1200,2400])\n",
    "\n",
    "print 'Control: ', np.mean(C_N_0), np.mean(C_N_1)\n",
    "print scipy.stats.ks_2samp(C_N_0, C_N_1)\n",
    "\n",
    "print scipy.stats.ks_2samp(N_1 - C_N_1, N_0 - C_N_0)"
   ]
  },
  {
   "cell_type": "code",
   "execution_count": null,
   "metadata": {},
   "outputs": [],
   "source": [
    "directory = '/media/caveman/CO2_hdf5_uw/CO2_data_notrajecs/low_flow_walking_arena_B/M37ir25a2/symmetric_0_1_24hrstarved/'\n",
    "N_0 = get_number_of_fly_entries_for_flowrate_for_experiment(directory, 0, timerange=[2400,3600])\n",
    "N_1 = get_number_of_fly_entries_for_flowrate_for_experiment(directory, 1, timerange=[2400,3600])\n",
    "\n",
    "print 'Odor: ', np.mean(N_0), np.mean(N_1)\n",
    "print scipy.stats.ks_2samp(N_0, N_1)\n",
    "\n",
    "C_N_0 = get_number_of_fly_entries_for_flowrate_for_experiment(directory, 0v)\n",
    "C_N_1 = get_number_of_fly_entries_for_flowrate_for_experiment(directory, 1, timerange=[1200,2400])\n",
    "\n",
    "print 'Control: ', np.mean(C_N_0), np.mean(C_N_1)\n",
    "\n",
    "print scipy.stats.ks_2samp(N_1 - C_N_1, N_0 - C_N_0)"
   ]
  },
  {
   "cell_type": "code",
   "execution_count": null,
   "metadata": {},
   "outputs": [],
   "source": [
    "directory = '/media/caveman/CO2_hdf5_uw/CO2_data_notrajecs/low_flow_walking_arena_B/ir21a/symmetric_0_1_ir21a_24hrstarved/'\n",
    "N_0 = get_number_of_fly_entries_for_flowrate_for_experiment(directory, 0, timerange=[2400,3600])\n",
    "N_1 = get_number_of_fly_entries_for_flowrate_for_experiment(directory, 1, timerange=[2400,3600])\n",
    "\n",
    "print 'Odor: ', np.mean(N_0), np.mean(N_1)\n",
    "print scipy.stats.ks_2samp(N_0, N_1)\n",
    "\n",
    "C_N_0 = get_number_of_fly_entries_for_flowrate_for_experiment(directory, 0, timerange=[1200,2400])\n",
    "C_N_1 = get_number_of_fly_entries_for_flowrate_for_experiment(directory, 1, timerange=[1200,2400])\n",
    "\n",
    "print 'Control: ', np.mean(C_N_0), np.mean(C_N_1)\n",
    "\n",
    "print 'comparison: '\n",
    "print scipy.stats.ks_2samp(N_1 - C_N_1, N_0 - C_N_0)"
   ]
  },
  {
   "cell_type": "code",
   "execution_count": null,
   "metadata": {},
   "outputs": [],
   "source": [
    "directory = '/media/caveman/CO2_hdf5_uw/CO2_data_notrajecs/low_flow_walking_arena_B/ir93aM98/24hrstarved/'\n",
    "N_0 = get_number_of_fly_entries_for_flowrate_for_experiment(directory, 0, timerange=[2400,3600])\n",
    "N_1 = get_number_of_fly_entries_for_flowrate_for_experiment(directory, 1, timerange=[2400,3600])\n",
    "\n",
    "print 'Odor: ', np.mean(N_0), np.mean(N_1)\n",
    "print scipy.stats.ks_2samp(N_0, N_1)\n",
    "\n",
    "C_N_0 = get_number_of_fly_entries_for_flowrate_for_experiment(directory, 0, timerange=[2400,3600], odor=False)\n",
    "C_N_1 = get_number_of_fly_entries_for_flowrate_for_experiment(directory, 1, timerange=[2400,3600], odor=False)\n",
    "\n",
    "print 'Control: ', np.mean(C_N_0), np.mean(C_N_1)\n",
    "print scipy.stats.ks_2samp(C_N_0, C_N_1)\n",
    "\n",
    "print scipy.stats.ks_2samp(N_1, C_N_1)"
   ]
  },
  {
   "cell_type": "code",
   "execution_count": null,
   "metadata": {},
   "outputs": [],
   "source": [
    "directory = '/media/caveman/CO2_hdf5_uw/CO2_data_notrajecs/low_flow_walking_arena_B/ir25a2_BAC/symmetric_0_1_ir25a2BAC_hot/'\n",
    "N_0 = get_number_of_fly_entries_for_flowrate_for_experiment(directory, 0, timerange=[2400,3000])\n",
    "N_1 = get_number_of_fly_entries_for_flowrate_for_experiment(directory, 1, timerange=[2400,3000])\n",
    "\n",
    "print 'Odor: ', np.mean(N_0), np.mean(N_1)\n",
    "print scipy.stats.ks_2samp(N_0, N_1)\n",
    "\n",
    "C_N_0 = get_number_of_fly_entries_for_flowrate_for_experiment(directory, 0, timerange=[1800,2400])\n",
    "C_N_1 = get_number_of_fly_entries_for_flowrate_for_experiment(directory, 1, timerange=[1800,2400])\n",
    "\n",
    "print 'Control: ', np.mean(C_N_0), np.mean(C_N_1)\n",
    "\n",
    "print scipy.stats.ks_2samp(N_1 - C_N_1, N_0 - C_N_0)"
   ]
  },
  {
   "cell_type": "code",
   "execution_count": null,
   "metadata": {},
   "outputs": [],
   "source": [
    "directory = '/media/caveman/CO2_hdf5_uw/CO2_data_notrajecs/low_flow_walking_arena_B/hcs/symmetric_0_1_hcs_24hrstarved/'\n",
    "N_0 = get_number_of_fly_entries_for_flowrate_for_experiment(directory, 0, timerange=[2400,3000])\n",
    "N_1 = get_number_of_fly_entries_for_flowrate_for_experiment(directory, 1, timerange=[2400,3000])\n",
    "\n",
    "print 'Odor: ', np.mean(N_0), np.mean(N_1)\n",
    "print scipy.stats.ks_2samp(N_0, N_1)\n",
    "\n",
    "C_N_0 = get_number_of_fly_entries_for_flowrate_for_experiment(directory, 0, timerange=[1800,2300])\n",
    "C_N_1 = get_number_of_fly_entries_for_flowrate_for_experiment(directory, 1, timerange=[1800,2300])\n",
    "\n",
    "print 'Control: ', np.mean(C_N_0), np.mean(C_N_1)\n",
    "\n",
    "print scipy.stats.ks_2samp(N_1 / C_N_1, N_0 / C_N_0)"
   ]
  },
  {
   "cell_type": "code",
   "execution_count": null,
   "metadata": {},
   "outputs": [],
   "source": [
    "directory = '/media/caveman/CO2_hdf5_uw/CO2_data_notrajecs/low_flow_walking_arena_B_HCS_concentration/hcs_24hrstarved'\n",
    "N_0 = get_number_of_fly_entries_for_flowrate_for_experiment(directory, 0)\n",
    "N_04 = get_number_of_fly_entries_for_flowrate_for_experiment(directory, 0.4)\n",
    "N_12 = get_number_of_fly_entries_for_flowrate_for_experiment(directory, 1.2)\n",
    "N_35 = get_number_of_fly_entries_for_flowrate_for_experiment(directory, 3.5)\n",
    "\n",
    "print np.mean(N_0), np.mean(N_04), np.mean(N_12), np.mean(N_35)"
   ]
  }
 ],
 "metadata": {
  "kernelspec": {
   "display_name": "Python 2",
   "language": "python",
   "name": "python2"
  }
 },
 "nbformat": 4,
 "nbformat_minor": 2
}
