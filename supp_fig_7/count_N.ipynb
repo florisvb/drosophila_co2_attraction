{
 "cells": [
  {
   "cell_type": "code",
   "execution_count": 1,
   "metadata": {},
   "outputs": [],
   "source": [
    "import dill as pickle"
   ]
  },
  {
   "cell_type": "code",
   "execution_count": 2,
   "metadata": {},
   "outputs": [
    {
     "name": "stdout",
     "output_type": "stream",
     "text": [
      "count_N.ipynb\r\n",
      "make_supp_fig_7.py\r\n",
      "supp_fig_7_ir25a_ir40a_data_compressed.dillpickle\r\n",
      "supp_fig_7_ir25a_ir40a_data_compressed_summary.md\r\n",
      "supp_fig_7_ir25a_ir40a_data.dillpickle\r\n",
      "\u001b[0m\u001b[01;35msupp_fig_7_ir25a_ir40a.svg\u001b[0m\r\n",
      "write_csv.py\r\n"
     ]
    }
   ],
   "source": [
    "ls"
   ]
  },
  {
   "cell_type": "code",
   "execution_count": 3,
   "metadata": {},
   "outputs": [],
   "source": [
    "f = open('supp_fig_7_ir25a_ir40a_data.dillpickle')"
   ]
  },
  {
   "cell_type": "code",
   "execution_count": 4,
   "metadata": {},
   "outputs": [],
   "source": [
    "data = pickle.load(f)"
   ]
  },
  {
   "cell_type": "code",
   "execution_count": 5,
   "metadata": {},
   "outputs": [
    {
     "data": {
      "text/plain": [
       "[(u'ir25a2_BAC_hot', u'low_speed'),\n",
       " (u'control_ir25a2_BAC_nothot', u'low_speed'),\n",
       " (u'control_ir25a_hot', u'high_speed'),\n",
       " (u'control_ir40a_hot', u'low_speed'),\n",
       " (u'control_M37ir25a2_nothot', u'low_speed'),\n",
       " (u'control_M37ir25a2_hot', u'low_speed'),\n",
       " (u'control_ir25a2_BAC_hot', u'high_speed'),\n",
       " (u'control_ir25a_nothot', u'high_speed'),\n",
       " (u'ir25a2_BAC_hot', u'high_speed'),\n",
       " (u'M37ir25a2_nothot', u'low_speed'),\n",
       " (u'ir40a_nothot', u'low_speed'),\n",
       " (u'ir25a_nothot', u'low_speed'),\n",
       " (u'ir25a2_BAC_nothot', u'high_speed'),\n",
       " (u'control_ir25a_hot', u'low_speed'),\n",
       " (u'control_ir25a2_BAC_nothot', u'high_speed'),\n",
       " (u'control_ir40a_nothot', u'high_speed'),\n",
       " (u'control_ir40a_hot', u'high_speed'),\n",
       " (u'ir25a_hot', u'high_speed'),\n",
       " (u'ir40a_hot', u'high_speed'),\n",
       " (u'control_ir40a_nothot', u'low_speed'),\n",
       " (u'M37ir25a2_hot', u'low_speed'),\n",
       " (u'ir25a_hot', u'low_speed'),\n",
       " (u'ir40a_hot', u'low_speed'),\n",
       " (u'M37ir25a2_hot', u'high_speed'),\n",
       " (u'control_M37ir25a2_nothot', u'high_speed'),\n",
       " (u'control_ir25a_nothot', u'low_speed'),\n",
       " (u'M37ir25a2_nothot', u'high_speed'),\n",
       " (u'ir40a_nothot', u'high_speed'),\n",
       " (u'control_M37ir25a2_hot', u'high_speed'),\n",
       " (u'ir25a2_BAC_nothot', u'low_speed'),\n",
       " (u'control_ir25a2_BAC_hot', u'low_speed'),\n",
       " (u'ir25a_nothot', u'high_speed')]"
      ]
     },
     "execution_count": 5,
     "metadata": {},
     "output_type": "execute_result"
    }
   ],
   "source": [
    "data.keys()"
   ]
  },
  {
   "cell_type": "code",
   "execution_count": 7,
   "metadata": {},
   "outputs": [],
   "source": [
    "keys = [u'ir25a_nothot', u'ir25a_hot', u'M37ir25a2_nothot', u'M37ir25a2_hot', \n",
    "        u'ir25a2_BAC_nothot', u'ir25a2_BAC_hot', ]"
   ]
  },
  {
   "cell_type": "code",
   "execution_count": 8,
   "metadata": {},
   "outputs": [
    {
     "name": "stdout",
     "output_type": "stream",
     "text": [
      "ir25a_nothot\n",
      "high speed:  7\n",
      "low speed:  78\n",
      "\n",
      "ir25a_hot\n",
      "high speed:  9\n",
      "low speed:  12\n",
      "\n",
      "M37ir25a2_nothot\n",
      "high speed:  38\n",
      "low speed:  78\n",
      "\n",
      "M37ir25a2_hot\n",
      "high speed:  8\n",
      "low speed:  14\n",
      "\n",
      "ir25a2_BAC_nothot\n",
      "high speed:  16\n",
      "low speed:  68\n",
      "\n",
      "ir25a2_BAC_hot\n",
      "high speed:  17\n",
      "low speed:  29\n",
      "\n"
     ]
    }
   ],
   "source": [
    "# panel a\n",
    "for key in keys:\n",
    "    print key\n",
    "    print 'high speed: ', len(data[(key, 'high_speed')][0]['args'][1])\n",
    "    print 'low speed: ', len(data[(key, 'low_speed')][0]['args'][1])\n",
    "    print ''"
   ]
  },
  {
   "cell_type": "code",
   "execution_count": 9,
   "metadata": {},
   "outputs": [
    {
     "name": "stdout",
     "output_type": "stream",
     "text": [
      "ir25a_nothot\n",
      "high speed:  4\n",
      "low speed:  53\n",
      "\n",
      "ir25a_hot\n",
      "high speed:  6\n",
      "low speed:  9\n",
      "\n",
      "M37ir25a2_nothot\n",
      "high speed:  27\n",
      "low speed:  50\n",
      "\n",
      "M37ir25a2_hot\n",
      "high speed:  6\n",
      "low speed:  9\n",
      "\n",
      "ir25a2_BAC_nothot\n",
      "high speed:  10\n",
      "low speed:  47\n",
      "\n",
      "ir25a2_BAC_hot\n",
      "high speed:  13\n",
      "low speed:  15\n",
      "\n"
     ]
    }
   ],
   "source": [
    "# panel b\n",
    "for key in keys:\n",
    "    print key\n",
    "    print 'high speed: ', len(data[('control_'+key, 'high_speed')][0]['args'][1])\n",
    "    print 'low speed: ', len(data[('control_'+key, 'low_speed')][0]['args'][1])\n",
    "    print ''"
   ]
  },
  {
   "cell_type": "code",
   "execution_count": 10,
   "metadata": {},
   "outputs": [
    {
     "name": "stdout",
     "output_type": "stream",
     "text": [
      "ir40a_nothot\n",
      "high speed:  34\n",
      "low speed:  51\n",
      "\n",
      "ir40a_hot\n",
      "high speed:  15\n",
      "low speed:  20\n",
      "\n"
     ]
    }
   ],
   "source": [
    "keys = ['ir40a_nothot', 'ir40a_hot']\n",
    "for key in keys:\n",
    "    print key\n",
    "    print 'high speed: ', len(data[(key, 'high_speed')][0]['args'][1])\n",
    "    print 'low speed: ', len(data[(key, 'low_speed')][0]['args'][1])\n",
    "    print ''"
   ]
  },
  {
   "cell_type": "code",
   "execution_count": 11,
   "metadata": {},
   "outputs": [
    {
     "name": "stdout",
     "output_type": "stream",
     "text": [
      "ir40a_nothot\n",
      "high speed:  22\n",
      "low speed:  38\n",
      "\n",
      "ir40a_hot\n",
      "high speed:  10\n",
      "low speed:  11\n",
      "\n"
     ]
    }
   ],
   "source": [
    "keys = ['ir40a_nothot', 'ir40a_hot']\n",
    "for key in keys:\n",
    "    print key\n",
    "    print 'high speed: ', len(data[('control_'+key, 'high_speed')][0]['args'][1])\n",
    "    print 'low speed: ', len(data[('control_'+key, 'low_speed')][0]['args'][1])\n",
    "    print ''"
   ]
  },
  {
   "cell_type": "code",
   "execution_count": null,
   "metadata": {},
   "outputs": [],
   "source": []
  }
 ],
 "metadata": {
  "kernelspec": {
   "display_name": "Python 2",
   "language": "python",
   "name": "python2"
  },
  "language_info": {
   "codemirror_mode": {
    "name": "ipython",
    "version": 2
   },
   "file_extension": ".py",
   "mimetype": "text/x-python",
   "name": "python",
   "nbconvert_exporter": "python",
   "pygments_lexer": "ipython2",
   "version": "2.7.12"
  }
 },
 "nbformat": 4,
 "nbformat_minor": 2
}
