{
 "cells": [
  {
   "cell_type": "code",
   "execution_count": 12,
   "metadata": {},
   "outputs": [],
   "source": [
    "import pandas\n",
    "import matplotlib.pyplot as plt\n",
    "import numpy as np\n",
    "import multi_tracker_analysis as mta\n",
    "import pairs2groups\n",
    "import scipy.stats\n",
    "\n",
    "import figurefirst\n",
    "import flystat\n",
    "import fly_plot_lib.plot as fpl\n",
    "import fly_plot_lib.text as flytext"
   ]
  },
  {
   "cell_type": "code",
   "execution_count": 13,
   "metadata": {},
   "outputs": [],
   "source": [
    "def get_number_of_fly_entries_for_flowrate_for_experiment(directory, flowrate, timerange=[2400,4800],\n",
    "                                                          speed='high', speed_threshold=2.3):\n",
    "    paths = mta.read_hdf5_file_to_pandas.get_filenames(directory, contains='day')\n",
    "    N = []\n",
    "    for path in paths:\n",
    "        n = get_number_of_fly_entries_for_flowrate_for_day(path, flowrate, timerange, speed, speed_threshold)\n",
    "        if n is not None:\n",
    "            N.append(n)\n",
    "    N = np.hstack(N)\n",
    "    return N\n",
    "    \n",
    "def get_number_of_fly_entries_for_flowrate_for_day(directory, flowrate, timerange=[2400,4800], \n",
    "                                                   speed='high', speed_threshold=2.3):\n",
    "    filename = mta.read_hdf5_file_to_pandas.get_filename(directory, 'pd_data.pickle')\n",
    "    pd = pandas.read_pickle(filename)\n",
    "    pd['pretrial_speed'] = 0.0\n",
    "\n",
    "    # calculate pretrial speed\n",
    "    for index, row in pd.iterrows():\n",
    "        pd.pretrial_speed[index] = np.mean(row.speed[1200:2400])\n",
    "\n",
    "    if speed == 'high':\n",
    "        q_pretrial_speed = 'pretrial_speed >= ' + str(speed_threshold)\n",
    "    else:\n",
    "        q_pretrial_speed = 'pretrial_speed < ' + str(speed_threshold)\n",
    "    q = 'flowrate < ' + str(flowrate+0.01) + ' and flowrate > ' + str(flowrate-0.01) + ' and ' + q_pretrial_speed\n",
    "    pd_odor = pd.query(q)\n",
    "    \n",
    "    t_idx = float(timerange[1]-timerange[0]) # timerange in indices\n",
    "    indices_per_min = 2400/10.\n",
    "    \n",
    "\n",
    "    if len(pd_odor) > 0:\n",
    "        a = np.vstack(pd_odor.n_flies_odor.values)\n",
    "        da = a[:,1:] - a[:,0:-1] # difference (positive values means flies entered)\n",
    "        idx = np.where(da<0) # get rid of departures\n",
    "        da[idx] = np.nan\n",
    "        N = np.nansum(da[:,timerange[0]:timerange[1]], axis=1) # total number of entries during CO2 presentation\n",
    "        N_per_time = N/t_idx*indices_per_min\n",
    "        \n",
    "        return N_per_time/10. # 10 flies\n",
    "    else:\n",
    "        return None"
   ]
  },
  {
   "cell_type": "code",
   "execution_count": null,
   "metadata": {},
   "outputs": [],
   "source": []
  },
  {
   "cell_type": "code",
   "execution_count": 14,
   "metadata": {},
   "outputs": [
    {
     "name": "stderr",
     "output_type": "stream",
     "text": [
      "/usr/local/lib/python2.7/dist-packages/ipykernel_launcher.py:20: SettingWithCopyWarning: \n",
      "A value is trying to be set on a copy of a slice from a DataFrame\n",
      "\n",
      "See the caveats in the documentation: http://pandas.pydata.org/pandas-docs/stable/indexing.html#indexing-view-versus-copy\n"
     ]
    },
    {
     "name": "stdout",
     "output_type": "stream",
     "text": [
      "1.83069869951 2.81311780648 3.48178940511 2.59523392386\n"
     ]
    }
   ],
   "source": [
    "directory = '/media/caveman/CO2_hdf5_uw/CO2_data_notrajecs/low_flow_walking_arena_B_HCS_concentration/hcs_24hrstarved'\n",
    "N_0 = get_number_of_fly_entries_for_flowrate_for_experiment(directory, 0)\n",
    "N_04 = get_number_of_fly_entries_for_flowrate_for_experiment(directory, 0.4)\n",
    "N_12 = get_number_of_fly_entries_for_flowrate_for_experiment(directory, 1.2)\n",
    "N_35 = get_number_of_fly_entries_for_flowrate_for_experiment(directory, 3.5)\n",
    "\n",
    "print np.mean(N_0), np.mean(N_04), np.mean(N_12), np.mean(N_35)"
   ]
  },
  {
   "cell_type": "code",
   "execution_count": null,
   "metadata": {},
   "outputs": [],
   "source": [
    "layout = figurefirst.svg_to_axes.FigureLayout('n_approaches.svg') \n",
    "layout.make_mplfigures()\n",
    "\n",
    "ax = layout.axes['n_approaches_stats','n_approaches_stats']\n",
    "\n",
    "data = [N_0, N_04, N_12, N_35]\n",
    "\n",
    "for i, d in enumerate(data):\n",
    "    fpl.scatter_box(ax, i, d, xwidth=0.3, \n",
    "                    ywidth=1, color=(0.001, 0.001, 0.001), linewidth=2, edgecolor='none', \n",
    "                    shading='95conf', use='mean', hide_markers=True)\n",
    "    \n",
    "figurefirst.mpl_functions.adjust_spines(ax, ['left', 'bottom'], xticks=[0,1,2,3], yticks=[1.5,2.0,2.5,3.0,3.5,4.0], \n",
    "                                        spine_locations={'bottom': 5, 'bottom': 5}, linewidth=0.5)\n",
    "\n",
    "ax.set_xticklabels([])\n",
    "flytext.set_fontsize(ax.figure, 6)\n",
    "\n",
    "layout.append_figure_to_layer(layout.figures['n_approaches_stats'], 'n_approaches_stats', cleartarget=True)\n",
    "layout.write_svg('n_approaches.svg')"
   ]
  },
  {
   "cell_type": "code",
   "execution_count": 15,
   "metadata": {},
   "outputs": [
    {
     "name": "stdout",
     "output_type": "stream",
     "text": [
      "Ks_2sampResult(statistic=0.57777777777777783, pvalue=0.0092826986315927909)\n",
      "Ks_2sampResult(statistic=0.82857142857142863, pvalue=3.1796458750868597e-05)\n",
      "Ks_2sampResult(statistic=0.41428571428571426, pvalue=0.017371595955742763)\n"
     ]
    }
   ],
   "source": [
    "print scipy.stats.ks_2samp(N_0, N_04)\n",
    "print scipy.stats.ks_2samp(N_0, N_12)\n",
    "print scipy.stats.ks_2samp(N_0, N_35)"
   ]
  },
  {
   "cell_type": "code",
   "execution_count": 8,
   "metadata": {},
   "outputs": [],
   "source": [
    "def plot_n_approaches_time_series(flowrate, tag):\n",
    "    directory = '/media/caveman/CO2_hdf5_uw/CO2_data_notrajecs/low_flow_walking_arena_B_HCS_concentration/hcs_24hrstarved'\n",
    "    \n",
    "    t1 = get_number_of_fly_entries_for_flowrate_for_experiment(directory, flowrate, timerange=[0,1200])\n",
    "    t2 = get_number_of_fly_entries_for_flowrate_for_experiment(directory, flowrate, timerange=[1200,2400])\n",
    "    t3 = get_number_of_fly_entries_for_flowrate_for_experiment(directory, flowrate, timerange=[2400,3600])\n",
    "    t4 = get_number_of_fly_entries_for_flowrate_for_experiment(directory, flowrate, timerange=[3600,4800])\n",
    "    t5 = get_number_of_fly_entries_for_flowrate_for_experiment(directory, flowrate, timerange=[4800,6000])\n",
    "    t6 = get_number_of_fly_entries_for_flowrate_for_experiment(directory, flowrate, timerange=[6000,7200])\n",
    "\n",
    "    data = [t1, t2, t3, t4, t5, t6]\n",
    "    \n",
    "    layout = figurefirst.svg_to_axes.FigureLayout('n_approaches.svg') \n",
    "    layout.make_mplfigures()\n",
    "\n",
    "    ax = layout.axes[tag, tag]\n",
    "    \n",
    "    ax.fill_between([1.5,3.5], 1, 6.0, facecolor='green', edgecolor='none', alpha=0.3)\n",
    "\n",
    "    for i, d in enumerate(data):\n",
    "        fpl.scatter_box(ax, i, d, xwidth=0.3, \n",
    "                        ywidth=1, color=(0.001, 0.001, 0.001), linewidth=2, edgecolor='none', \n",
    "                        shading='95conf', use='mean', hide_markers=True)\n",
    "\n",
    "    if '00' in tag:\n",
    "        figurefirst.mpl_functions.adjust_spines(ax, ['left'], yticks=[1,2,3,4,5,6], \n",
    "                                                spine_locations={'bottom': 5, 'bottom': 5}, linewidth=0.5)\n",
    "    else:\n",
    "        figurefirst.mpl_functions.adjust_spines(ax, [], \n",
    "                                                spine_locations={'bottom': 5, 'bottom': 5}, linewidth=0.5)\n",
    "        \n",
    "    ax.set_ylim(0.9,6.0)\n",
    "    ax.set_xlim(-1, 6)\n",
    "    flytext.set_fontsize(ax.figure, 6)\n",
    "\n",
    "    layout.append_figure_to_layer(layout.figures[tag], tag, cleartarget=True)\n",
    "    layout.write_svg('n_approaches.svg')"
   ]
  },
  {
   "cell_type": "code",
   "execution_count": 9,
   "metadata": {},
   "outputs": [
    {
     "name": "stderr",
     "output_type": "stream",
     "text": [
      "/usr/local/lib/python2.7/dist-packages/ipykernel_launcher.py:20: SettingWithCopyWarning: \n",
      "A value is trying to be set on a copy of a slice from a DataFrame\n",
      "\n",
      "See the caveats in the documentation: http://pandas.pydata.org/pandas-docs/stable/indexing.html#indexing-view-versus-copy\n"
     ]
    },
    {
     "name": "stdout",
     "output_type": "stream",
     "text": [
      "Removing node: #text\n",
      "Removing node: #text\n",
      "Removing node: #text\n",
      "Removing node: #text\n",
      "Removing node: defs\n",
      "Removing node: defs\n",
      "Removing node: g\n",
      "Removing node: #text\n",
      "Removing node: #text\n",
      "Removing node: #text\n",
      "Removing node: #text\n",
      "Removing node: defs\n",
      "Removing node: defs\n",
      "Removing node: g\n",
      "Removing node: #text\n",
      "Removing node: #text\n",
      "Removing node: #text\n",
      "Removing node: #text\n",
      "Removing node: defs\n",
      "Removing node: defs\n",
      "Removing node: g\n",
      "Removing node: #text\n",
      "Removing node: #text\n",
      "Removing node: #text\n",
      "Removing node: #text\n",
      "Removing node: defs\n",
      "Removing node: defs\n",
      "Removing node: g\n"
     ]
    },
    {
     "data": {
      "image/png": "[encoded data removed]",
      "text/plain": [
       "<matplotlib.figure.Figure at 0x7fb81732f350>"
      ]
     },
     "metadata": {},
     "output_type": "display_data"
    },
    {
     "data": {
      "image/png": "[encoded data removed]",
      "text/plain": [
       "<matplotlib.figure.Figure at 0x7fb81732ff50>"
      ]
     },
     "metadata": {},
     "output_type": "display_data"
    },
    {
     "data": {
      "image/png": "[encoded data removed]",
      "text/plain": [
       "<matplotlib.figure.Figure at 0x7fb817266ed0>"
      ]
     },
     "metadata": {},
     "output_type": "display_data"
    },
    {
     "data": {
      "image/png": "[encoded data removed]",
      "text/plain": [
       "<matplotlib.figure.Figure at 0x7fb8174c7990>"
      ]
     },
     "metadata": {},
     "output_type": "display_data"
    },
    {
     "data": {
      "image/png": "[encoded data removed]",
      "text/plain": [
       "<matplotlib.figure.Figure at 0x7fb8175b0690>"
      ]
     },
     "metadata": {},
     "output_type": "display_data"
    },
    {
     "data": {
      "image/png": "[encoded data removed]",
      "text/plain": [
       "<matplotlib.figure.Figure at 0x7fb817616890>"
      ]
     },
     "metadata": {},
     "output_type": "display_data"
    },
    {
     "data": {
      "image/png": "[encoded data removed]",
      "text/plain": [
       "<matplotlib.figure.Figure at 0x7fb80c1c19d0>"
      ]
     },
     "metadata": {},
     "output_type": "display_data"
    },
    {
     "data": {
      "image/png": "[encoded data removed]",
      "text/plain": [
       "<matplotlib.figure.Figure at 0x7fb80c1d5b50>"
      ]
     },
     "metadata": {},
     "output_type": "display_data"
    },
    {
     "data": {
      "image/png": "[encoded data removed]",
      "text/plain": [
       "<matplotlib.figure.Figure at 0x7fb80c179510>"
      ]
     },
     "metadata": {},
     "output_type": "display_data"
    },
    {
     "data": {
      "image/png": "[encoded data removed]",
      "text/plain": [
       "<matplotlib.figure.Figure at 0x7fb816f00dd0>"
      ]
     },
     "metadata": {},
     "output_type": "display_data"
    },
    {
     "data": {
      "image/png": "[encoded data removed]",
      "text/plain": [
       "<matplotlib.figure.Figure at 0x7fb817616090>"
      ]
     },
     "metadata": {},
     "output_type": "display_data"
    },
    {
     "data": {
      "image/png": "[encoded data removed]",
      "text/plain": [
       "<matplotlib.figure.Figure at 0x7fb81732f2d0>"
      ]
     },
     "metadata": {},
     "output_type": "display_data"
    },
    {
     "data": {
      "image/png": "[encoded data removed]",
      "text/plain": [
       "<matplotlib.figure.Figure at 0x7fb817022a50>"
      ]
     },
     "metadata": {},
     "output_type": "display_data"
    },
    {
     "data": {
      "image/png": "[encoded data removed]",
      "text/plain": [
       "<matplotlib.figure.Figure at 0x7fb816d05090>"
      ]
     },
     "metadata": {},
     "output_type": "display_data"
    },
    {
     "data": {
      "image/png": "[encoded data removed]",
      "text/plain": [
       "<matplotlib.figure.Figure at 0x7fb816db9a50>"
      ]
     },
     "metadata": {},
     "output_type": "display_data"
    },
    {
     "data": {
      "image/png": "[encoded data removed]",
      "text/plain": [
       "<matplotlib.figure.Figure at 0x7fb817712fd0>"
      ]
     },
     "metadata": {},
     "output_type": "display_data"
    },
    {
     "data": {
      "image/png": "[encoded data removed]",
      "text/plain": [
       "<matplotlib.figure.Figure at 0x7fb80c265210>"
      ]
     },
     "metadata": {},
     "output_type": "display_data"
    },
    {
     "data": {
      "image/png": "[encoded data removed]",
      "text/plain": [
       "<matplotlib.figure.Figure at 0x7fb816ee3a90>"
      ]
     },
     "metadata": {},
     "output_type": "display_data"
    },
    {
     "data": {
      "image/png": "[encoded data removed]",
      "text/plain": [
       "<matplotlib.figure.Figure at 0x7fb816ec4610>"
      ]
     },
     "metadata": {},
     "output_type": "display_data"
    },
    {
     "data": {
      "image/png": "[encoded data removed]",
      "text/plain": [
       "<matplotlib.figure.Figure at 0x7fb816e6f6d0>"
      ]
     },
     "metadata": {},
     "output_type": "display_data"
    }
   ],
   "source": [
    "plot_n_approaches_time_series(0, 'n_approaches_00')\n",
    "plot_n_approaches_time_series(0.4, 'n_approaches_04')\n",
    "plot_n_approaches_time_series(1.2, 'n_approaches_12')\n",
    "plot_n_approaches_time_series(3.5, 'n_approaches_35')"
   ]
  },
  {
   "cell_type": "code",
   "execution_count": null,
   "metadata": {},
   "outputs": [],
   "source": []
  },
  {
   "cell_type": "code",
   "execution_count": null,
   "metadata": {},
   "outputs": [],
   "source": []
  },
  {
   "cell_type": "code",
   "execution_count": 10,
   "metadata": {},
   "outputs": [
    {
     "name": "stderr",
     "output_type": "stream",
     "text": [
      "/usr/local/lib/python2.7/dist-packages/ipykernel_launcher.py:20: SettingWithCopyWarning: \n",
      "A value is trying to be set on a copy of a slice from a DataFrame\n",
      "\n",
      "See the caveats in the documentation: http://pandas.pydata.org/pandas-docs/stable/indexing.html#indexing-view-versus-copy\n"
     ]
    }
   ],
   "source": [
    "directory = '/media/caveman/CO2_hdf5_uw/CO2_data_notrajecs/low_flow_walking_arena_B_HCS_concentration/hcs_24hrstarved'\n",
    "control_early = get_number_of_fly_entries_for_flowrate_for_experiment(directory, 0, timerange=[2400,3600])\n",
    "control_late = get_number_of_fly_entries_for_flowrate_for_experiment(directory, 0, timerange=[3600,4800])\n",
    "\n",
    "co2_04_early = get_number_of_fly_entries_for_flowrate_for_experiment(directory, 0.4, timerange=[2400,3600])\n",
    "co2_04_late = get_number_of_fly_entries_for_flowrate_for_experiment(directory, 0.4, timerange=[3600,4800])\n",
    "\n",
    "co2_12_early = get_number_of_fly_entries_for_flowrate_for_experiment(directory, 1.2, timerange=[2400,3600])\n",
    "co2_12_late = get_number_of_fly_entries_for_flowrate_for_experiment(directory, 1.2, timerange=[3600,4800])"
   ]
  },
  {
   "cell_type": "code",
   "execution_count": 11,
   "metadata": {},
   "outputs": [
    {
     "name": "stdout",
     "output_type": "stream",
     "text": [
      "Ks_2sampResult(statistic=0.5174603174603174, pvalue=0.026879888026364023)\n",
      "Ks_2sampResult(statistic=0.88571428571428568, pvalue=6.5716174641646502e-06)\n",
      "Ks_2sampResult(statistic=0.57777777777777783, pvalue=0.0092826986315927909)\n",
      "Ks_2sampResult(statistic=0.48888888888888887, pvalue=0.04269709376679607)\n"
     ]
    }
   ],
   "source": [
    "print scipy.stats.ks_2samp(control_early, co2_04_early)\n",
    "print scipy.stats.ks_2samp(control_early, co2_12_early)\n",
    "print scipy.stats.ks_2samp(control_late, co2_04_late)\n",
    "print scipy.stats.ks_2samp(control_late, co2_12_late)"
   ]
  },
  {
   "cell_type": "code",
   "execution_count": null,
   "metadata": {},
   "outputs": [],
   "source": []
  }
 ],
 "metadata": {
  "kernelspec": {
   "display_name": "Python 2",
   "language": "python",
   "name": "python2"
  },
  "language_info": {
   "codemirror_mode": {
    "name": "ipython",
    "version": 2
   },
   "file_extension": ".py",
   "mimetype": "text/x-python",
   "name": "python",
   "nbconvert_exporter": "python",
   "pygments_lexer": "ipython2",
   "version": "2.7.12"
  }
 },
 "nbformat": 4,
 "nbformat_minor": 2
}
