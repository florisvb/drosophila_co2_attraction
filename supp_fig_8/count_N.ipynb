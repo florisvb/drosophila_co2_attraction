{
 "cells": [
  {
   "cell_type": "code",
   "execution_count": 1,
   "metadata": {},
   "outputs": [],
   "source": [
    "import dill as pickle"
   ]
  },
  {
   "cell_type": "code",
   "execution_count": 2,
   "metadata": {},
   "outputs": [
    {
     "name": "stdout",
     "output_type": "stream",
     "text": [
      "count_N.ipynb\r\n",
      "make_supp_fig_8.py\r\n",
      "\u001b[0m\u001b[01;35msupp_fig_8_eth_vinegar_compressed.svg\u001b[0m\r\n",
      "supp_fig_8_eth_vinegar_data_compressed.dillpickle\r\n",
      "supp_fig_8_eth_vinegar_data_compressed_summary.md\r\n",
      "supp_fig_8_eth_vinegar_data.dillpickle\r\n",
      "\u001b[01;35msupp_fig_8_eth_vinegar.png\u001b[0m\r\n",
      "\u001b[01;35msupp_fig_8_eth_vinegar.svg\u001b[0m\r\n",
      "write_csv.py\r\n"
     ]
    }
   ],
   "source": [
    "ls"
   ]
  },
  {
   "cell_type": "code",
   "execution_count": 3,
   "metadata": {},
   "outputs": [],
   "source": [
    "f = open('supp_fig_8_eth_vinegar_data.dillpickle')"
   ]
  },
  {
   "cell_type": "code",
   "execution_count": 4,
   "metadata": {},
   "outputs": [
    {
     "name": "stderr",
     "output_type": "stream",
     "text": [
      "/home/caveman/.local/lib/python2.7/site-packages/pandas/core/computation/__init__.py:18: UserWarning: The installed version of numexpr 2.4.3 is not supported in pandas and will be not be used\n",
      "The minimum supported version is 2.4.6\n",
      "\n",
      "  ver=ver, min_ver=_MIN_NUMEXPR_VERSION), UserWarning)\n"
     ]
    },
    {
     "name": "stdout",
     "output_type": "stream",
     "text": [
      "1.5.1\n",
      "recommended version: 1.1.1 or greater\n"
     ]
    }
   ],
   "source": [
    "data = pickle.load(f)"
   ]
  },
  {
   "cell_type": "code",
   "execution_count": 5,
   "metadata": {},
   "outputs": [
    {
     "data": {
      "text/plain": [
       "[(u'eth_ir25a2_BAC', u'low_speed'),\n",
       " (u'control_eth_hcs', u'high_speed'),\n",
       " (u'control_vinegar_orco', u'high_speed'),\n",
       " (u'control_eth_antennaless', u'high_speed'),\n",
       " (u'control_eth_M37ir25a2', u'low_speed'),\n",
       " (u'vinegar_hcs', u'low_speed'),\n",
       " (u'control_eth_orco', u'high_speed'),\n",
       " (u'control_vinegar_ir8aM120', u'low_speed'),\n",
       " (u'eth_hcs_full', u'nflies'),\n",
       " (u'eth_hcs_full', u'low_speed'),\n",
       " (u'eth_M37ir25a2', u'low_speed'),\n",
       " (u'vinegar_ir8aM120', u'low_speed'),\n",
       " (u'control_vinegar_orco', u'low_speed'),\n",
       " (u'eth_ir8aM120', u'high_speed'),\n",
       " (u'eth_ir25a2_BAC', u'high_speed'),\n",
       " (u'control_eth_ir25a2_BAC', u'high_speed'),\n",
       " (u'control_vinegar_M37ir25a2', u'low_speed'),\n",
       " (u'control_vinegar_hcs', u'high_speed'),\n",
       " (u'eth_hcs_full', u'speed'),\n",
       " (u'vinegar_hcs_full', u'correlation'),\n",
       " (u'control_vinegar_anosmic', u'high_speed'),\n",
       " (u'control_eth_hcs', u'low_speed'),\n",
       " (u'eth_orco', u'low_speed'),\n",
       " (u'vinegar_hcs_full', u'nflies'),\n",
       " (u'vinegar_hcs', u'high_speed'),\n",
       " (u'vinegar_orco', u'high_speed'),\n",
       " (u'eth_anosmic', u'high_speed'),\n",
       " (u'control_eth_ir8aM120', u'high_speed'),\n",
       " (u'vinegar_orco', u'low_speed'),\n",
       " (u'eth_antennaless', u'high_speed'),\n",
       " (u'eth_M106', u'high_speed'),\n",
       " (u'vinegar_anosmic', u'high_speed'),\n",
       " (u'control_eth_antennaless', u'low_speed'),\n",
       " (u'control_vinegar_ir8aM120', u'high_speed'),\n",
       " (u'eth_hcs_full', u'high_speed'),\n",
       " (u'vinegar_hcs_full', u'low_speed'),\n",
       " (u'eth_hcs', u'low_speed'),\n",
       " (u'eth_orco', u'high_speed'),\n",
       " (u'vinegar_hcs_full', u'speed'),\n",
       " (u'control_vinegar_M106', u'high_speed'),\n",
       " (u'control_eth_ir8aM120', u'low_speed'),\n",
       " (u'control_vinegar_anosmic', u'low_speed'),\n",
       " (u'cmap_h', u'pref_ind_cmap_h'),\n",
       " (u'eth_M106', u'low_speed'),\n",
       " (u'vinegar_M37ir25a2', u'high_speed'),\n",
       " (u'vinegar_M106', u'high_speed'),\n",
       " (u'vinegar_M106', u'low_speed'),\n",
       " (u'control_eth_M37ir25a2', u'high_speed'),\n",
       " (u'eth_M37ir25a2', u'high_speed'),\n",
       " (u'vinegar_anosmic', u'low_speed'),\n",
       " (u'eth_hcs', u'high_speed'),\n",
       " (u'eth_hcs_full', u'correlation'),\n",
       " (u'eth_anosmic', u'low_speed'),\n",
       " (u'control_eth_M106', u'low_speed'),\n",
       " (u'control_vinegar_M106', u'low_speed'),\n",
       " (u'control_eth_anosmic', u'low_speed'),\n",
       " (u'vinegar_M37ir25a2', u'low_speed'),\n",
       " (u'control_eth_anosmic', u'high_speed'),\n",
       " (u'eth_antennaless', u'low_speed'),\n",
       " (u'vinegar_ir8aM120', u'high_speed'),\n",
       " (u'control_eth_orco', u'low_speed'),\n",
       " (u'cmap_h', u'speed_cmap_h'),\n",
       " (u'control_eth_ir25a2_BAC', u'low_speed'),\n",
       " (u'eth_ir8aM120', u'low_speed'),\n",
       " (u'control_vinegar_hcs', u'low_speed'),\n",
       " (u'control_vinegar_M37ir25a2', u'high_speed'),\n",
       " (u'control_eth_M106', u'high_speed'),\n",
       " (u'vinegar_hcs_full', u'high_speed')]"
      ]
     },
     "execution_count": 5,
     "metadata": {},
     "output_type": "execute_result"
    }
   ],
   "source": [
    "data.keys()"
   ]
  },
  {
   "cell_type": "code",
   "execution_count": 6,
   "metadata": {},
   "outputs": [
    {
     "data": {
      "text/plain": [
       "(70, 7200)"
      ]
     },
     "execution_count": 6,
     "metadata": {},
     "output_type": "execute_result"
    }
   ],
   "source": [
    "data[('eth_hcs_full', 'speed')][0]['args'][0].shape"
   ]
  },
  {
   "cell_type": "code",
   "execution_count": 7,
   "metadata": {},
   "outputs": [
    {
     "data": {
      "text/plain": [
       "(57, 7200)"
      ]
     },
     "execution_count": 7,
     "metadata": {},
     "output_type": "execute_result"
    }
   ],
   "source": [
    "data[('vinegar_hcs_full', 'speed')][0]['args'][0].shape"
   ]
  },
  {
   "cell_type": "code",
   "execution_count": 20,
   "metadata": {},
   "outputs": [
    {
     "name": "stdout",
     "output_type": "stream",
     "text": [
      "\n",
      "hcs\n",
      "high speed:  49\n",
      "\n",
      "anosmic\n",
      "high speed:  36\n",
      "\n",
      "antennaless\n",
      "high speed:  \n",
      "\n",
      "orco\n",
      "high speed:  41\n",
      "\n",
      "ir8aM120\n",
      "high speed:  37\n",
      "\n",
      "M37ir25a2\n",
      "high speed:  36\n",
      "\n",
      "ir25a2_BAC\n",
      "high speed:  \n",
      "\n",
      "M106\n",
      "high speed:  20\n",
      "\n",
      "ir40a\n",
      "high speed:  \n"
     ]
    }
   ],
   "source": [
    "keys = ['hcs', 'anosmic', 'antennaless', 'orco', 'ir8aM120', 'M37ir25a2', 'ir25a2_BAC', 'M106', 'ir40a']\n",
    "for key in keys:\n",
    "    try:\n",
    "        print ''\n",
    "        print key\n",
    "        print 'high speed: ', len(data[('vinegar_'+key, 'high_speed')][0]['args'][1])\n",
    "    except:\n",
    "        print ''\n",
    "        pass"
   ]
  },
  {
   "cell_type": "code",
   "execution_count": 21,
   "metadata": {},
   "outputs": [
    {
     "name": "stdout",
     "output_type": "stream",
     "text": [
      "\n",
      "hcs\n",
      "high speed:  34\n",
      "\n",
      "anosmic\n",
      "high speed:  25\n",
      "\n",
      "antennaless\n",
      "high speed:  \n",
      "\n",
      "orco\n",
      "high speed:  30\n",
      "\n",
      "ir8aM120\n",
      "high speed:  26\n",
      "\n",
      "M37ir25a2\n",
      "high speed:  22\n",
      "\n",
      "ir25a2_BAC\n",
      "high speed:  \n",
      "\n",
      "M106\n",
      "high speed:  15\n",
      "\n",
      "ir40a\n",
      "high speed:  \n"
     ]
    }
   ],
   "source": [
    "keys = ['hcs', 'anosmic', 'antennaless', 'orco', 'ir8aM120', 'M37ir25a2', 'ir25a2_BAC', 'M106', 'ir40a']\n",
    "for key in keys:\n",
    "    try:\n",
    "        print ''\n",
    "        print key\n",
    "        print 'high speed: ', len(data[('control_vinegar_'+key, 'high_speed')][0]['args'][1])\n",
    "    except:\n",
    "        print ''\n",
    "        pass"
   ]
  },
  {
   "cell_type": "code",
   "execution_count": null,
   "metadata": {},
   "outputs": [],
   "source": []
  }
 ],
 "metadata": {
  "kernelspec": {
   "display_name": "Python 2",
   "language": "python",
   "name": "python2"
  },
  "language_info": {
   "codemirror_mode": {
    "name": "ipython",
    "version": 2
   },
   "file_extension": ".py",
   "mimetype": "text/x-python",
   "name": "python",
   "nbconvert_exporter": "python",
   "pygments_lexer": "ipython2",
   "version": "2.7.12"
  }
 },
 "nbformat": 4,
 "nbformat_minor": 2
}
